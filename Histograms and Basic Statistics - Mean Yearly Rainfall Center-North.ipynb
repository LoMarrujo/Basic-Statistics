{
 "cells": [
  {
   "cell_type": "code",
   "execution_count": 1,
   "id": "4cfdecdc",
   "metadata": {},
   "outputs": [],
   "source": [
    "import pandas as pd\n",
    "import matplotlib.pyplot as plt\n",
    "import seaborn as sns"
   ]
  },
  {
   "cell_type": "markdown",
   "id": "a1e60a11",
   "metadata": {},
   "source": [
    "In this exercise, we make a simple inference procedure. We seek to estimate the distribution of the mean of rainfall (in millimeters) for the states in the center-north region in Mexico, from 2005 to 2021. Our main question of interest is:\n",
    "¿Which state in the center-north region of Mexico is the driest?\n",
    "\n",
    "The center-north region in Mexico is defined[^1] as :\n",
    "+ Aguascalientes\n",
    "+ Guanajuato\n",
    "+ Querétaro\n",
    "+ San Luis Potosí\n",
    "+ Zacatecas \n",
    "\n",
    "[^1]: https://es.wikipedia.org/wiki/Anexo:Zonas_econ%C3%B3micas_de_M%C3%A9xico"
   ]
  },
  {
   "cell_type": "markdown",
   "id": "623d22cf",
   "metadata": {},
   "source": [
    "### Loading and reducing the dataset"
   ]
  },
  {
   "cell_type": "code",
   "execution_count": 2,
   "id": "7d856c1c",
   "metadata": {},
   "outputs": [
    {
     "data": {
      "text/html": [
       "<div>\n",
       "<style scoped>\n",
       "    .dataframe tbody tr th:only-of-type {\n",
       "        vertical-align: middle;\n",
       "    }\n",
       "\n",
       "    .dataframe tbody tr th {\n",
       "        vertical-align: top;\n",
       "    }\n",
       "\n",
       "    .dataframe thead th {\n",
       "        text-align: right;\n",
       "    }\n",
       "</style>\n",
       "<table border=\"1\" class=\"dataframe\">\n",
       "  <thead>\n",
       "    <tr style=\"text-align: right;\">\n",
       "      <th></th>\n",
       "      <th>Entidad</th>\n",
       "      <th>2000</th>\n",
       "      <th>2005</th>\n",
       "      <th>2006</th>\n",
       "      <th>2007</th>\n",
       "      <th>2008</th>\n",
       "      <th>2009</th>\n",
       "      <th>2010</th>\n",
       "      <th>2011</th>\n",
       "      <th>2012</th>\n",
       "      <th>2013</th>\n",
       "      <th>2014</th>\n",
       "      <th>2015</th>\n",
       "      <th>2016</th>\n",
       "      <th>2017</th>\n",
       "      <th>2018</th>\n",
       "      <th>2019</th>\n",
       "      <th>2020</th>\n",
       "      <th>2021</th>\n",
       "    </tr>\n",
       "  </thead>\n",
       "  <tbody>\n",
       "    <tr>\n",
       "      <th>0</th>\n",
       "      <td>Aguascalientes</td>\n",
       "      <td>448</td>\n",
       "      <td>456</td>\n",
       "      <td>459</td>\n",
       "      <td>460</td>\n",
       "      <td>464</td>\n",
       "      <td>463</td>\n",
       "      <td>464</td>\n",
       "      <td>461</td>\n",
       "      <td>461</td>\n",
       "      <td>465</td>\n",
       "      <td>466</td>\n",
       "      <td>471</td>\n",
       "      <td>472</td>\n",
       "      <td>473</td>\n",
       "      <td>477</td>\n",
       "      <td>477</td>\n",
       "      <td>477</td>\n",
       "      <td>480</td>\n",
       "    </tr>\n",
       "    <tr>\n",
       "      <th>1</th>\n",
       "      <td>Baja California</td>\n",
       "      <td>203</td>\n",
       "      <td>204</td>\n",
       "      <td>202</td>\n",
       "      <td>202</td>\n",
       "      <td>202</td>\n",
       "      <td>201</td>\n",
       "      <td>202</td>\n",
       "      <td>202</td>\n",
       "      <td>201</td>\n",
       "      <td>201</td>\n",
       "      <td>200</td>\n",
       "      <td>200</td>\n",
       "      <td>201</td>\n",
       "      <td>200</td>\n",
       "      <td>199</td>\n",
       "      <td>199</td>\n",
       "      <td>198</td>\n",
       "      <td>196</td>\n",
       "    </tr>\n",
       "    <tr>\n",
       "      <th>2</th>\n",
       "      <td>Baja California Sur</td>\n",
       "      <td>176</td>\n",
       "      <td>176</td>\n",
       "      <td>178</td>\n",
       "      <td>178</td>\n",
       "      <td>178</td>\n",
       "      <td>179</td>\n",
       "      <td>178</td>\n",
       "      <td>176</td>\n",
       "      <td>178</td>\n",
       "      <td>179</td>\n",
       "      <td>181</td>\n",
       "      <td>183</td>\n",
       "      <td>184</td>\n",
       "      <td>183</td>\n",
       "      <td>183</td>\n",
       "      <td>184</td>\n",
       "      <td>183</td>\n",
       "      <td>183</td>\n",
       "    </tr>\n",
       "    <tr>\n",
       "      <th>3</th>\n",
       "      <td>Campeche</td>\n",
       "      <td>1138</td>\n",
       "      <td>1169</td>\n",
       "      <td>1175</td>\n",
       "      <td>1175</td>\n",
       "      <td>1182</td>\n",
       "      <td>1182</td>\n",
       "      <td>1185</td>\n",
       "      <td>1185</td>\n",
       "      <td>1184</td>\n",
       "      <td>1191</td>\n",
       "      <td>1194</td>\n",
       "      <td>1196</td>\n",
       "      <td>1196</td>\n",
       "      <td>1198</td>\n",
       "      <td>1201</td>\n",
       "      <td>1202</td>\n",
       "      <td>1209</td>\n",
       "      <td>1209</td>\n",
       "    </tr>\n",
       "    <tr>\n",
       "      <th>4</th>\n",
       "      <td>Coahuila</td>\n",
       "      <td>316</td>\n",
       "      <td>327</td>\n",
       "      <td>327</td>\n",
       "      <td>327</td>\n",
       "      <td>332</td>\n",
       "      <td>332</td>\n",
       "      <td>335</td>\n",
       "      <td>333</td>\n",
       "      <td>333</td>\n",
       "      <td>334</td>\n",
       "      <td>336</td>\n",
       "      <td>338</td>\n",
       "      <td>341</td>\n",
       "      <td>341</td>\n",
       "      <td>342</td>\n",
       "      <td>341</td>\n",
       "      <td>340</td>\n",
       "      <td>338</td>\n",
       "    </tr>\n",
       "  </tbody>\n",
       "</table>\n",
       "</div>"
      ],
      "text/plain": [
       "               Entidad  2000  2005  2006  2007  2008  2009  2010  2011  2012  \\\n",
       "0       Aguascalientes   448   456   459   460   464   463   464   461   461   \n",
       "1      Baja California   203   204   202   202   202   201   202   202   201   \n",
       "2  Baja California Sur   176   176   178   178   178   179   178   176   178   \n",
       "3             Campeche  1138  1169  1175  1175  1182  1182  1185  1185  1184   \n",
       "4             Coahuila   316   327   327   327   332   332   335   333   333   \n",
       "\n",
       "   2013  2014  2015  2016  2017  2018  2019  2020  2021  \n",
       "0   465   466   471   472   473   477   477   477   480  \n",
       "1   201   200   200   201   200   199   199   198   196  \n",
       "2   179   181   183   184   183   183   184   183   183  \n",
       "3  1191  1194  1196  1196  1198  1201  1202  1209  1209  \n",
       "4   334   336   338   341   341   342   341   340   338  "
      ]
     },
     "execution_count": 2,
     "metadata": {},
     "output_type": "execute_result"
    }
   ],
   "source": [
    "# location in PC of dataset\n",
    "xlsx_location = r'C:\\Users\\luis9\\OneDrive\\Datos\\Precipitación media histórica por entidad federativa 2005 a 20021 en milimetros.xlsx'\n",
    "# read .xlsx as pd.DataFrame\n",
    "df_0 = pd.read_excel(xlsx_location)  \n",
    "# print first 5 rows:\n",
    "df_0.head()"
   ]
  },
  {
   "cell_type": "code",
   "execution_count": 3,
   "id": "836205b7",
   "metadata": {},
   "outputs": [
    {
     "data": {
      "text/html": [
       "<div>\n",
       "<style scoped>\n",
       "    .dataframe tbody tr th:only-of-type {\n",
       "        vertical-align: middle;\n",
       "    }\n",
       "\n",
       "    .dataframe tbody tr th {\n",
       "        vertical-align: top;\n",
       "    }\n",
       "\n",
       "    .dataframe thead th {\n",
       "        text-align: right;\n",
       "    }\n",
       "</style>\n",
       "<table border=\"1\" class=\"dataframe\">\n",
       "  <thead>\n",
       "    <tr style=\"text-align: right;\">\n",
       "      <th></th>\n",
       "      <th>Entidad</th>\n",
       "      <th>2000</th>\n",
       "      <th>2005</th>\n",
       "      <th>2006</th>\n",
       "      <th>2007</th>\n",
       "      <th>2008</th>\n",
       "      <th>2009</th>\n",
       "      <th>2010</th>\n",
       "      <th>2011</th>\n",
       "      <th>2012</th>\n",
       "      <th>2013</th>\n",
       "      <th>2014</th>\n",
       "      <th>2015</th>\n",
       "      <th>2016</th>\n",
       "      <th>2017</th>\n",
       "      <th>2018</th>\n",
       "      <th>2019</th>\n",
       "      <th>2020</th>\n",
       "      <th>2021</th>\n",
       "    </tr>\n",
       "  </thead>\n",
       "  <tbody>\n",
       "    <tr>\n",
       "      <th>0</th>\n",
       "      <td>Aguascalientes</td>\n",
       "      <td>448</td>\n",
       "      <td>456</td>\n",
       "      <td>459</td>\n",
       "      <td>460</td>\n",
       "      <td>464</td>\n",
       "      <td>463</td>\n",
       "      <td>464</td>\n",
       "      <td>461</td>\n",
       "      <td>461</td>\n",
       "      <td>465</td>\n",
       "      <td>466</td>\n",
       "      <td>471</td>\n",
       "      <td>472</td>\n",
       "      <td>473</td>\n",
       "      <td>477</td>\n",
       "      <td>477</td>\n",
       "      <td>477</td>\n",
       "      <td>480</td>\n",
       "    </tr>\n",
       "    <tr>\n",
       "      <th>10</th>\n",
       "      <td>Guanajuato</td>\n",
       "      <td>592</td>\n",
       "      <td>605</td>\n",
       "      <td>608</td>\n",
       "      <td>608</td>\n",
       "      <td>613</td>\n",
       "      <td>613</td>\n",
       "      <td>615</td>\n",
       "      <td>612</td>\n",
       "      <td>612</td>\n",
       "      <td>614</td>\n",
       "      <td>614</td>\n",
       "      <td>617</td>\n",
       "      <td>618</td>\n",
       "      <td>618</td>\n",
       "      <td>621</td>\n",
       "      <td>620</td>\n",
       "      <td>619</td>\n",
       "      <td>621</td>\n",
       "    </tr>\n",
       "    <tr>\n",
       "      <th>21</th>\n",
       "      <td>Querétaro</td>\n",
       "      <td>555</td>\n",
       "      <td>558</td>\n",
       "      <td>559</td>\n",
       "      <td>559</td>\n",
       "      <td>561</td>\n",
       "      <td>560</td>\n",
       "      <td>562</td>\n",
       "      <td>560</td>\n",
       "      <td>560</td>\n",
       "      <td>563</td>\n",
       "      <td>566</td>\n",
       "      <td>568</td>\n",
       "      <td>571</td>\n",
       "      <td>571</td>\n",
       "      <td>571</td>\n",
       "      <td>569</td>\n",
       "      <td>567</td>\n",
       "      <td>568</td>\n",
       "    </tr>\n",
       "    <tr>\n",
       "      <th>23</th>\n",
       "      <td>San Luis Potosí</td>\n",
       "      <td>960</td>\n",
       "      <td>946</td>\n",
       "      <td>942</td>\n",
       "      <td>942</td>\n",
       "      <td>953</td>\n",
       "      <td>953</td>\n",
       "      <td>959</td>\n",
       "      <td>958</td>\n",
       "      <td>958</td>\n",
       "      <td>957</td>\n",
       "      <td>955</td>\n",
       "      <td>953</td>\n",
       "      <td>950</td>\n",
       "      <td>945</td>\n",
       "      <td>941</td>\n",
       "      <td>936</td>\n",
       "      <td>929</td>\n",
       "      <td>926</td>\n",
       "    </tr>\n",
       "    <tr>\n",
       "      <th>31</th>\n",
       "      <td>Zacatecas</td>\n",
       "      <td>516</td>\n",
       "      <td>518</td>\n",
       "      <td>517</td>\n",
       "      <td>517</td>\n",
       "      <td>516</td>\n",
       "      <td>516</td>\n",
       "      <td>513</td>\n",
       "      <td>516</td>\n",
       "      <td>512</td>\n",
       "      <td>514</td>\n",
       "      <td>514</td>\n",
       "      <td>517</td>\n",
       "      <td>516</td>\n",
       "      <td>516</td>\n",
       "      <td>517</td>\n",
       "      <td>516</td>\n",
       "      <td>514</td>\n",
       "      <td>515</td>\n",
       "    </tr>\n",
       "  </tbody>\n",
       "</table>\n",
       "</div>"
      ],
      "text/plain": [
       "            Entidad  2000  2005  2006  2007  2008  2009  2010  2011  2012  \\\n",
       "0    Aguascalientes   448   456   459   460   464   463   464   461   461   \n",
       "10       Guanajuato   592   605   608   608   613   613   615   612   612   \n",
       "21        Querétaro   555   558   559   559   561   560   562   560   560   \n",
       "23  San Luis Potosí   960   946   942   942   953   953   959   958   958   \n",
       "31        Zacatecas   516   518   517   517   516   516   513   516   512   \n",
       "\n",
       "    2013  2014  2015  2016  2017  2018  2019  2020  2021  \n",
       "0    465   466   471   472   473   477   477   477   480  \n",
       "10   614   614   617   618   618   621   620   619   621  \n",
       "21   563   566   568   571   571   571   569   567   568  \n",
       "23   957   955   953   950   945   941   936   929   926  \n",
       "31   514   514   517   516   516   517   516   514   515  "
      ]
     },
     "execution_count": 3,
     "metadata": {},
     "output_type": "execute_result"
    }
   ],
   "source": [
    "# Get states of interest into array\n",
    "center_north = ['Aguascalientes', 'Guanajuato', 'Querétaro', 'San Luis Potosí', 'Zacatecas']\n",
    "\n",
    "# Save pd.DataFrame\n",
    "df = df_0[(df_0.Entidad).isin(center_north)]\n",
    "# Print whole dataset\n",
    "df"
   ]
  },
  {
   "cell_type": "code",
   "execution_count": 4,
   "id": "48e8efcd",
   "metadata": {},
   "outputs": [
    {
     "data": {
      "text/html": [
       "<div>\n",
       "<style scoped>\n",
       "    .dataframe tbody tr th:only-of-type {\n",
       "        vertical-align: middle;\n",
       "    }\n",
       "\n",
       "    .dataframe tbody tr th {\n",
       "        vertical-align: top;\n",
       "    }\n",
       "\n",
       "    .dataframe thead th {\n",
       "        text-align: right;\n",
       "    }\n",
       "</style>\n",
       "<table border=\"1\" class=\"dataframe\">\n",
       "  <thead>\n",
       "    <tr style=\"text-align: right;\">\n",
       "      <th></th>\n",
       "      <th>2005</th>\n",
       "      <th>2006</th>\n",
       "      <th>2007</th>\n",
       "      <th>2008</th>\n",
       "      <th>2009</th>\n",
       "      <th>2010</th>\n",
       "      <th>2011</th>\n",
       "      <th>2012</th>\n",
       "      <th>2013</th>\n",
       "      <th>2014</th>\n",
       "      <th>2015</th>\n",
       "      <th>2016</th>\n",
       "      <th>2017</th>\n",
       "      <th>2018</th>\n",
       "      <th>2019</th>\n",
       "      <th>2020</th>\n",
       "      <th>2021</th>\n",
       "    </tr>\n",
       "    <tr>\n",
       "      <th>Entidad</th>\n",
       "      <th></th>\n",
       "      <th></th>\n",
       "      <th></th>\n",
       "      <th></th>\n",
       "      <th></th>\n",
       "      <th></th>\n",
       "      <th></th>\n",
       "      <th></th>\n",
       "      <th></th>\n",
       "      <th></th>\n",
       "      <th></th>\n",
       "      <th></th>\n",
       "      <th></th>\n",
       "      <th></th>\n",
       "      <th></th>\n",
       "      <th></th>\n",
       "      <th></th>\n",
       "    </tr>\n",
       "  </thead>\n",
       "  <tbody>\n",
       "    <tr>\n",
       "      <th>Aguascalientes</th>\n",
       "      <td>456</td>\n",
       "      <td>459</td>\n",
       "      <td>460</td>\n",
       "      <td>464</td>\n",
       "      <td>463</td>\n",
       "      <td>464</td>\n",
       "      <td>461</td>\n",
       "      <td>461</td>\n",
       "      <td>465</td>\n",
       "      <td>466</td>\n",
       "      <td>471</td>\n",
       "      <td>472</td>\n",
       "      <td>473</td>\n",
       "      <td>477</td>\n",
       "      <td>477</td>\n",
       "      <td>477</td>\n",
       "      <td>480</td>\n",
       "    </tr>\n",
       "    <tr>\n",
       "      <th>Guanajuato</th>\n",
       "      <td>605</td>\n",
       "      <td>608</td>\n",
       "      <td>608</td>\n",
       "      <td>613</td>\n",
       "      <td>613</td>\n",
       "      <td>615</td>\n",
       "      <td>612</td>\n",
       "      <td>612</td>\n",
       "      <td>614</td>\n",
       "      <td>614</td>\n",
       "      <td>617</td>\n",
       "      <td>618</td>\n",
       "      <td>618</td>\n",
       "      <td>621</td>\n",
       "      <td>620</td>\n",
       "      <td>619</td>\n",
       "      <td>621</td>\n",
       "    </tr>\n",
       "    <tr>\n",
       "      <th>Querétaro</th>\n",
       "      <td>558</td>\n",
       "      <td>559</td>\n",
       "      <td>559</td>\n",
       "      <td>561</td>\n",
       "      <td>560</td>\n",
       "      <td>562</td>\n",
       "      <td>560</td>\n",
       "      <td>560</td>\n",
       "      <td>563</td>\n",
       "      <td>566</td>\n",
       "      <td>568</td>\n",
       "      <td>571</td>\n",
       "      <td>571</td>\n",
       "      <td>571</td>\n",
       "      <td>569</td>\n",
       "      <td>567</td>\n",
       "      <td>568</td>\n",
       "    </tr>\n",
       "    <tr>\n",
       "      <th>San Luis Potosí</th>\n",
       "      <td>946</td>\n",
       "      <td>942</td>\n",
       "      <td>942</td>\n",
       "      <td>953</td>\n",
       "      <td>953</td>\n",
       "      <td>959</td>\n",
       "      <td>958</td>\n",
       "      <td>958</td>\n",
       "      <td>957</td>\n",
       "      <td>955</td>\n",
       "      <td>953</td>\n",
       "      <td>950</td>\n",
       "      <td>945</td>\n",
       "      <td>941</td>\n",
       "      <td>936</td>\n",
       "      <td>929</td>\n",
       "      <td>926</td>\n",
       "    </tr>\n",
       "    <tr>\n",
       "      <th>Zacatecas</th>\n",
       "      <td>518</td>\n",
       "      <td>517</td>\n",
       "      <td>517</td>\n",
       "      <td>516</td>\n",
       "      <td>516</td>\n",
       "      <td>513</td>\n",
       "      <td>516</td>\n",
       "      <td>512</td>\n",
       "      <td>514</td>\n",
       "      <td>514</td>\n",
       "      <td>517</td>\n",
       "      <td>516</td>\n",
       "      <td>516</td>\n",
       "      <td>517</td>\n",
       "      <td>516</td>\n",
       "      <td>514</td>\n",
       "      <td>515</td>\n",
       "    </tr>\n",
       "  </tbody>\n",
       "</table>\n",
       "</div>"
      ],
      "text/plain": [
       "                 2005  2006  2007  2008  2009  2010  2011  2012  2013  2014  \\\n",
       "Entidad                                                                       \n",
       "Aguascalientes    456   459   460   464   463   464   461   461   465   466   \n",
       "Guanajuato        605   608   608   613   613   615   612   612   614   614   \n",
       "Querétaro         558   559   559   561   560   562   560   560   563   566   \n",
       "San Luis Potosí   946   942   942   953   953   959   958   958   957   955   \n",
       "Zacatecas         518   517   517   516   516   513   516   512   514   514   \n",
       "\n",
       "                 2015  2016  2017  2018  2019  2020  2021  \n",
       "Entidad                                                    \n",
       "Aguascalientes    471   472   473   477   477   477   480  \n",
       "Guanajuato        617   618   618   621   620   619   621  \n",
       "Querétaro         568   571   571   571   569   567   568  \n",
       "San Luis Potosí   953   950   945   941   936   929   926  \n",
       "Zacatecas         517   516   516   517   516   514   515  "
      ]
     },
     "execution_count": 4,
     "metadata": {},
     "output_type": "execute_result"
    }
   ],
   "source": [
    "# Simplify df to contain values of interest in an appropiate format\n",
    "df.index = df.Entidad\n",
    "df = df[df.columns[2:]]\n",
    "df"
   ]
  },
  {
   "cell_type": "code",
   "execution_count": 5,
   "id": "6d31ef02",
   "metadata": {},
   "outputs": [],
   "source": [
    "# get all values into np.array\n",
    "data_array = df.values.flatten()"
   ]
  },
  {
   "cell_type": "markdown",
   "id": "098c2742",
   "metadata": {},
   "source": [
    "### Estimation"
   ]
  },
  {
   "cell_type": "markdown",
   "id": "5dade3d8",
   "metadata": {},
   "source": [
    "#### Histogram (As continuous)"
   ]
  },
  {
   "cell_type": "code",
   "execution_count": 6,
   "id": "3892b207",
   "metadata": {},
   "outputs": [
    {
     "data": {
      "text/plain": [
       "Text(0, 0.5, 'Count')"
      ]
     },
     "execution_count": 6,
     "metadata": {},
     "output_type": "execute_result"
    },
    {
     "data": {
      "image/png": "[encoded data removed]",
      "text/plain": [
       "<Figure size 1368x648 with 1 Axes>"
      ]
     },
     "metadata": {
      "needs_background": "light"
     },
     "output_type": "display_data"
    }
   ],
   "source": [
    "fig, ax = plt.subplots(figsize=(19,9))\n",
    "\n",
    "sns.histplot(data_array, bins=60)\n",
    "plt.title('Histogram (Continuous Values) for Mean Yearly Rainfall in Center-North Region of Mexico', fontsize=24)\n",
    "plt.xlabel('Mean Yearly Rainfall (in millimeters)', fontsize=18)\n",
    "plt.ylabel('Count', fontsize=18)"
   ]
  },
  {
   "cell_type": "code",
   "execution_count": 7,
   "id": "422e6413",
   "metadata": {},
   "outputs": [
    {
     "data": {
      "text/plain": [
       "<AxesSubplot:title={'center':'Histogram (Continuous Values) for Mean Yearly Rainfall in Center-North Region of Mexico'}, xlabel='Mean Yearly Rainfall (in millimeters)', ylabel='Count'>"
      ]
     },
     "execution_count": 7,
     "metadata": {},
     "output_type": "execute_result"
    },
    {
     "data": {
      "image/png": "[encoded data removed]",
      "text/plain": [
       "<Figure size 1368x648 with 1 Axes>"
      ]
     },
     "metadata": {
      "needs_background": "light"
     },
     "output_type": "display_data"
    }
   ],
   "source": [
    "fig, ax = plt.subplots(figsize=(19,9))\n",
    "plt.title('Histogram (Continuous Values) for Mean Yearly Rainfall in Center-North Region of Mexico', fontsize=24)\n",
    "plt.xlabel('Mean Yearly Rainfall (in millimeters)', fontsize=18)\n",
    "plt.ylabel('Count', fontsize=18)\n",
    "sns.histplot(data=df.T, bins=60)"
   ]
  },
  {
   "cell_type": "markdown",
   "id": "6af74586",
   "metadata": {},
   "source": [
    "#### Histogram (As Discrete)"
   ]
  },
  {
   "cell_type": "code",
   "execution_count": 8,
   "id": "881c7907",
   "metadata": {},
   "outputs": [
    {
     "data": {
      "text/plain": [
       "Text(0, 0.5, 'Count')"
      ]
     },
     "execution_count": 8,
     "metadata": {},
     "output_type": "execute_result"
    },
    {
     "data": {
      "image/png": "[encoded data removed]",
      "text/plain": [
       "<Figure size 1368x648 with 1 Axes>"
      ]
     },
     "metadata": {
      "needs_background": "light"
     },
     "output_type": "display_data"
    }
   ],
   "source": [
    "fig, ax = plt.subplots(figsize=(19,9))\n",
    "\n",
    "sns.histplot(data_array, discrete=True)\n",
    "plt.title('Histogram (Discrete Values) for Mean Yearly Rainfall in Center-North Region of Mexico', fontsize=24)\n",
    "plt.xlabel('Mean Yearly Rainfall (in millimeters)', fontsize=18)\n",
    "plt.ylabel('Count', fontsize=18)"
   ]
  },
  {
   "cell_type": "code",
   "execution_count": 9,
   "id": "bacc3c0f",
   "metadata": {},
   "outputs": [
    {
     "data": {
      "text/plain": [
       "Text(0, 0.5, 'Count')"
      ]
     },
     "execution_count": 9,
     "metadata": {},
     "output_type": "execute_result"
    },
    {
     "data": {
      "image/png": "[encoded data removed]",
      "text/plain": [
       "<Figure size 1368x648 with 1 Axes>"
      ]
     },
     "metadata": {
      "needs_background": "light"
     },
     "output_type": "display_data"
    }
   ],
   "source": [
    "fig, ax = plt.subplots(figsize=(19,9))\n",
    "\n",
    "sns.histplot(df.T, discrete=True)\n",
    "plt.title('Histogram (Discrete Values) for Mean Yearly Rainfall in Center-North Region of Mexico', fontsize=24)\n",
    "plt.xlabel('Mean Yearly Rainfall (in millimeters)', fontsize=18)\n",
    "plt.ylabel('Count', fontsize=18)"
   ]
  },
  {
   "cell_type": "markdown",
   "id": "c4e799c6",
   "metadata": {},
   "source": [
    "### Standarized Analysis"
   ]
  },
  {
   "cell_type": "markdown",
   "id": "75448e88",
   "metadata": {},
   "source": [
    "Now, the data is the mean yearly rainfall of the states, but these states vary considerably in their surface area. It would not be fair to compare states with a lot of surface area to those with little surface area, since the states with more surface area would get a lot more yearly rainfall for having more surface area.\n",
    "\n",
    "Since we are interested in knowing which state is the driest, then we have to scale the mean yearly rainfall by the surface area (precisely, the area in kilometers^2 / 1000 km^2) so we can answer the question more precisely.\n",
    "\n",
    "We use INEGI's data[^2]: to get the surface area of each state.\n",
    "\n",
    "[^2]: https://cuentame.inegi.org.mx/monografias/default.aspx?tema=me"
   ]
  },
  {
   "cell_type": "code",
   "execution_count": 10,
   "id": "54ecb2cd",
   "metadata": {},
   "outputs": [],
   "source": [
    "# We get area in kilometers^2 / (1000 km^2) for the following states:\n",
    "# Aguascalientes, Guanajuato, Querétaro, San Luis Potosí, Zacatecas\n",
    "area_km2_per_thousandkm =[5.616, 30.607, 11.691,  61.138, 75.275]"
   ]
  },
  {
   "cell_type": "code",
   "execution_count": 11,
   "id": "b46f2894",
   "metadata": {},
   "outputs": [
    {
     "data": {
      "text/html": [
       "<div>\n",
       "<style scoped>\n",
       "    .dataframe tbody tr th:only-of-type {\n",
       "        vertical-align: middle;\n",
       "    }\n",
       "\n",
       "    .dataframe tbody tr th {\n",
       "        vertical-align: top;\n",
       "    }\n",
       "\n",
       "    .dataframe thead th {\n",
       "        text-align: right;\n",
       "    }\n",
       "</style>\n",
       "<table border=\"1\" class=\"dataframe\">\n",
       "  <thead>\n",
       "    <tr style=\"text-align: right;\">\n",
       "      <th>Entidad</th>\n",
       "      <th>Aguascalientes</th>\n",
       "      <th>Guanajuato</th>\n",
       "      <th>Querétaro</th>\n",
       "      <th>San Luis Potosí</th>\n",
       "      <th>Zacatecas</th>\n",
       "    </tr>\n",
       "  </thead>\n",
       "  <tbody>\n",
       "    <tr>\n",
       "      <th>2005</th>\n",
       "      <td>81.196581</td>\n",
       "      <td>19.766720</td>\n",
       "      <td>47.729022</td>\n",
       "      <td>15.473192</td>\n",
       "      <td>6.881435</td>\n",
       "    </tr>\n",
       "    <tr>\n",
       "      <th>2006</th>\n",
       "      <td>81.730769</td>\n",
       "      <td>19.864737</td>\n",
       "      <td>47.814558</td>\n",
       "      <td>15.407766</td>\n",
       "      <td>6.868150</td>\n",
       "    </tr>\n",
       "    <tr>\n",
       "      <th>2007</th>\n",
       "      <td>81.908832</td>\n",
       "      <td>19.864737</td>\n",
       "      <td>47.814558</td>\n",
       "      <td>15.407766</td>\n",
       "      <td>6.868150</td>\n",
       "    </tr>\n",
       "    <tr>\n",
       "      <th>2008</th>\n",
       "      <td>82.621083</td>\n",
       "      <td>20.028098</td>\n",
       "      <td>47.985630</td>\n",
       "      <td>15.587687</td>\n",
       "      <td>6.854865</td>\n",
       "    </tr>\n",
       "    <tr>\n",
       "      <th>2009</th>\n",
       "      <td>82.443020</td>\n",
       "      <td>20.028098</td>\n",
       "      <td>47.900094</td>\n",
       "      <td>15.587687</td>\n",
       "      <td>6.854865</td>\n",
       "    </tr>\n",
       "    <tr>\n",
       "      <th>2010</th>\n",
       "      <td>82.621083</td>\n",
       "      <td>20.093443</td>\n",
       "      <td>48.071166</td>\n",
       "      <td>15.685826</td>\n",
       "      <td>6.815012</td>\n",
       "    </tr>\n",
       "    <tr>\n",
       "      <th>2011</th>\n",
       "      <td>82.086895</td>\n",
       "      <td>19.995426</td>\n",
       "      <td>47.900094</td>\n",
       "      <td>15.669469</td>\n",
       "      <td>6.854865</td>\n",
       "    </tr>\n",
       "    <tr>\n",
       "      <th>2012</th>\n",
       "      <td>82.086895</td>\n",
       "      <td>19.995426</td>\n",
       "      <td>47.900094</td>\n",
       "      <td>15.669469</td>\n",
       "      <td>6.801727</td>\n",
       "    </tr>\n",
       "    <tr>\n",
       "      <th>2013</th>\n",
       "      <td>82.799145</td>\n",
       "      <td>20.060770</td>\n",
       "      <td>48.156702</td>\n",
       "      <td>15.653113</td>\n",
       "      <td>6.828296</td>\n",
       "    </tr>\n",
       "    <tr>\n",
       "      <th>2014</th>\n",
       "      <td>82.977208</td>\n",
       "      <td>20.060770</td>\n",
       "      <td>48.413309</td>\n",
       "      <td>15.620400</td>\n",
       "      <td>6.828296</td>\n",
       "    </tr>\n",
       "    <tr>\n",
       "      <th>2015</th>\n",
       "      <td>83.867521</td>\n",
       "      <td>20.158787</td>\n",
       "      <td>48.584381</td>\n",
       "      <td>15.587687</td>\n",
       "      <td>6.868150</td>\n",
       "    </tr>\n",
       "    <tr>\n",
       "      <th>2016</th>\n",
       "      <td>84.045584</td>\n",
       "      <td>20.191459</td>\n",
       "      <td>48.840989</td>\n",
       "      <td>15.538618</td>\n",
       "      <td>6.854865</td>\n",
       "    </tr>\n",
       "    <tr>\n",
       "      <th>2017</th>\n",
       "      <td>84.223647</td>\n",
       "      <td>20.191459</td>\n",
       "      <td>48.840989</td>\n",
       "      <td>15.456835</td>\n",
       "      <td>6.854865</td>\n",
       "    </tr>\n",
       "    <tr>\n",
       "      <th>2018</th>\n",
       "      <td>84.935897</td>\n",
       "      <td>20.289476</td>\n",
       "      <td>48.840989</td>\n",
       "      <td>15.391410</td>\n",
       "      <td>6.868150</td>\n",
       "    </tr>\n",
       "    <tr>\n",
       "      <th>2019</th>\n",
       "      <td>84.935897</td>\n",
       "      <td>20.256804</td>\n",
       "      <td>48.669917</td>\n",
       "      <td>15.309627</td>\n",
       "      <td>6.854865</td>\n",
       "    </tr>\n",
       "    <tr>\n",
       "      <th>2020</th>\n",
       "      <td>84.935897</td>\n",
       "      <td>20.224132</td>\n",
       "      <td>48.498845</td>\n",
       "      <td>15.195132</td>\n",
       "      <td>6.828296</td>\n",
       "    </tr>\n",
       "    <tr>\n",
       "      <th>2021</th>\n",
       "      <td>85.470085</td>\n",
       "      <td>20.289476</td>\n",
       "      <td>48.584381</td>\n",
       "      <td>15.146063</td>\n",
       "      <td>6.841581</td>\n",
       "    </tr>\n",
       "  </tbody>\n",
       "</table>\n",
       "</div>"
      ],
      "text/plain": [
       "Entidad  Aguascalientes  Guanajuato  Querétaro  San Luis Potosí  Zacatecas\n",
       "2005          81.196581   19.766720  47.729022        15.473192   6.881435\n",
       "2006          81.730769   19.864737  47.814558        15.407766   6.868150\n",
       "2007          81.908832   19.864737  47.814558        15.407766   6.868150\n",
       "2008          82.621083   20.028098  47.985630        15.587687   6.854865\n",
       "2009          82.443020   20.028098  47.900094        15.587687   6.854865\n",
       "2010          82.621083   20.093443  48.071166        15.685826   6.815012\n",
       "2011          82.086895   19.995426  47.900094        15.669469   6.854865\n",
       "2012          82.086895   19.995426  47.900094        15.669469   6.801727\n",
       "2013          82.799145   20.060770  48.156702        15.653113   6.828296\n",
       "2014          82.977208   20.060770  48.413309        15.620400   6.828296\n",
       "2015          83.867521   20.158787  48.584381        15.587687   6.868150\n",
       "2016          84.045584   20.191459  48.840989        15.538618   6.854865\n",
       "2017          84.223647   20.191459  48.840989        15.456835   6.854865\n",
       "2018          84.935897   20.289476  48.840989        15.391410   6.868150\n",
       "2019          84.935897   20.256804  48.669917        15.309627   6.854865\n",
       "2020          84.935897   20.224132  48.498845        15.195132   6.828296\n",
       "2021          85.470085   20.289476  48.584381        15.146063   6.841581"
      ]
     },
     "execution_count": 11,
     "metadata": {},
     "output_type": "execute_result"
    }
   ],
   "source": [
    "df_scaled = df.T/area_km2_per_thousandkm\n",
    "df_scaled"
   ]
  },
  {
   "cell_type": "code",
   "execution_count": 12,
   "id": "55b55002",
   "metadata": {},
   "outputs": [
    {
     "data": {
      "text/plain": [
       "<AxesSubplot:title={'center':'Histogram (Continuous Values) for Mean Yearly Rainfall per Squared kilometer\\n in Center-North Region of Mexico'}, xlabel='Mean Yearly Rainfall (in millimeters)', ylabel='Count'>"
      ]
     },
     "execution_count": 12,
     "metadata": {},
     "output_type": "execute_result"
    },
    {
     "data": {
      "image/png": "[encoded data removed]",
      "text/plain": [
       "<Figure size 1368x648 with 1 Axes>"
      ]
     },
     "metadata": {
      "needs_background": "light"
     },
     "output_type": "display_data"
    }
   ],
   "source": [
    "fig, ax = plt.subplots(figsize=(19,9))\n",
    "plt.title('Histogram (Continuous Values) for Mean Yearly Rainfall per Squared kilometer\\n in Center-North Region of Mexico', fontsize=24)\n",
    "plt.xlabel('Mean Yearly Rainfall (in millimeters)', fontsize=18)\n",
    "plt.ylabel('Count', fontsize=18)\n",
    "sns.histplot(data=df_scaled, bins=200)"
   ]
  },
  {
   "cell_type": "code",
   "execution_count": 13,
   "id": "3b18d8ad",
   "metadata": {},
   "outputs": [
    {
     "data": {
      "text/plain": [
       "Entidad\n",
       "Aguascalientes     83.228591\n",
       "Guanajuato         20.079989\n",
       "Querétaro          48.267395\n",
       "San Luis Potosí    15.493397\n",
       "Zacatecas           6.848614\n",
       "dtype: float64"
      ]
     },
     "execution_count": 13,
     "metadata": {},
     "output_type": "execute_result"
    }
   ],
   "source": [
    "df_scaled.mean()"
   ]
  },
  {
   "cell_type": "code",
   "execution_count": 14,
   "id": "7c37326a",
   "metadata": {},
   "outputs": [
    {
     "data": {
      "text/plain": [
       "Entidad\n",
       "Aguascalientes     1.759934\n",
       "Guanajuato         0.023893\n",
       "Querétaro          0.166233\n",
       "San Luis Potosí    0.027473\n",
       "Zacatecas          0.000466\n",
       "dtype: float64"
      ]
     },
     "execution_count": 14,
     "metadata": {},
     "output_type": "execute_result"
    }
   ],
   "source": [
    "df_scaled.var()"
   ]
  },
  {
   "cell_type": "markdown",
   "id": "34bf34f6",
   "metadata": {},
   "source": [
    "We can conclude that Zacatecas is the driest state in the center-north region of Mexico. Also, Aguascalientes is the wettest state in the same region. We can also note that Aguascalientes mean yearly precipitation has more variance (1.76), and Zacatecas mean yearly precipitation has really low variance (0.0005), that means that Zacatecas gets almost the same mean yearly rainfall each year."
   ]
  }
 ],
 "metadata": {
  "kernelspec": {
   "display_name": "Python 3 (ipykernel)",
   "language": "python",
   "name": "python3"
  },
  "language_info": {
   "codemirror_mode": {
    "name": "ipython",
    "version": 3
   },
   "file_extension": ".py",
   "mimetype": "text/x-python",
   "name": "python",
   "nbconvert_exporter": "python",
   "pygments_lexer": "ipython3",
   "version": "3.9.7"
  }
 },
 "nbformat": 4,
 "nbformat_minor": 5
}
