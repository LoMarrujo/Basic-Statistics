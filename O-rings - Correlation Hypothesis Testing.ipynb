{
 "cells": [
  {
   "cell_type": "code",
   "execution_count": 1,
   "id": "6b52d1f5",
   "metadata": {},
   "outputs": [],
   "source": [
    "#pip install mlxtend"
   ]
  },
  {
   "cell_type": "code",
   "execution_count": 2,
   "id": "6f15695c",
   "metadata": {},
   "outputs": [],
   "source": [
    "import numpy as np\n",
    "import pandas as pd\n",
    "import seaborn as sns\n",
    "from scipy.stats import pearsonr\n",
    "from scipy.stats import norm\n",
    "import matplotlib.pyplot as plt\n",
    "from sklearn.utils import resample\n",
    "from scipy.stats import permutation_test\n",
    "from mlxtend.evaluate import permutation_test as mlxtend_perm_test"
   ]
  },
  {
   "cell_type": "markdown",
   "id": "b7b21622",
   "metadata": {},
   "source": [
    "### Introduction"
   ]
  },
  {
   "cell_type": "markdown",
   "id": "2e55b10c",
   "metadata": {},
   "source": [
    "On January 28, 1986, a routine launch was anticipated for the Challenger space shuttle. Seventy-three seconds into the flight, disaster happened: the shuttle broke apart, killing all seven crew members on board. An investigation into the cause of the disaster focused on a critical seal called an O-ring, and it is believed that damage to these O-rings during a shuttle launch may be related to the ambient temperature during the launch. The table below summarizes observational data on O-rings for 23 shuttle missions, where the mission order is based on the temperature at the time of the launch. \n",
    "\n",
    "\n",
    "A data frame with 23 observations on the following 4 variables:\n",
    "- mission: Shuttle mission number.\n",
    "- temperature: Temperature, in Fahrenheit.\n",
    "- damaged: Number of damaged O-rings (out of 6).\n",
    "- undamaged: Number of undamaged O-rings (out of 6).\n",
    "\n",
    "We are interested in evaluating the correlation $\\rho$ for the temperature and the number of damaged O-rings. Also, we have the hypothesis test problem of\n",
    "$$H_0 : \\rho = 0 \\text{ v.s. } H_1 : \\rho \\neq 0.$$\n",
    "In words, we have the null hypothesis of no correlation between temperature and number of damaged O-rings. Against the alternative hypothesis of correlated variables which could be a indicator of causality."
   ]
  },
  {
   "cell_type": "code",
   "execution_count": 3,
   "id": "768c8936",
   "metadata": {},
   "outputs": [
    {
     "data": {
      "text/html": [
       "<div>\n",
       "<style scoped>\n",
       "    .dataframe tbody tr th:only-of-type {\n",
       "        vertical-align: middle;\n",
       "    }\n",
       "\n",
       "    .dataframe tbody tr th {\n",
       "        vertical-align: top;\n",
       "    }\n",
       "\n",
       "    .dataframe thead th {\n",
       "        text-align: right;\n",
       "    }\n",
       "</style>\n",
       "<table border=\"1\" class=\"dataframe\">\n",
       "  <thead>\n",
       "    <tr style=\"text-align: right;\">\n",
       "      <th></th>\n",
       "      <th>mission</th>\n",
       "      <th>temperature</th>\n",
       "      <th>damaged</th>\n",
       "      <th>undamaged</th>\n",
       "    </tr>\n",
       "  </thead>\n",
       "  <tbody>\n",
       "    <tr>\n",
       "      <th>0</th>\n",
       "      <td>1</td>\n",
       "      <td>53</td>\n",
       "      <td>5</td>\n",
       "      <td>1</td>\n",
       "    </tr>\n",
       "    <tr>\n",
       "      <th>1</th>\n",
       "      <td>2</td>\n",
       "      <td>57</td>\n",
       "      <td>1</td>\n",
       "      <td>5</td>\n",
       "    </tr>\n",
       "    <tr>\n",
       "      <th>2</th>\n",
       "      <td>3</td>\n",
       "      <td>58</td>\n",
       "      <td>1</td>\n",
       "      <td>5</td>\n",
       "    </tr>\n",
       "    <tr>\n",
       "      <th>3</th>\n",
       "      <td>4</td>\n",
       "      <td>63</td>\n",
       "      <td>1</td>\n",
       "      <td>5</td>\n",
       "    </tr>\n",
       "    <tr>\n",
       "      <th>4</th>\n",
       "      <td>5</td>\n",
       "      <td>66</td>\n",
       "      <td>0</td>\n",
       "      <td>6</td>\n",
       "    </tr>\n",
       "    <tr>\n",
       "      <th>5</th>\n",
       "      <td>6</td>\n",
       "      <td>67</td>\n",
       "      <td>0</td>\n",
       "      <td>6</td>\n",
       "    </tr>\n",
       "    <tr>\n",
       "      <th>6</th>\n",
       "      <td>7</td>\n",
       "      <td>67</td>\n",
       "      <td>0</td>\n",
       "      <td>6</td>\n",
       "    </tr>\n",
       "    <tr>\n",
       "      <th>7</th>\n",
       "      <td>8</td>\n",
       "      <td>67</td>\n",
       "      <td>0</td>\n",
       "      <td>6</td>\n",
       "    </tr>\n",
       "    <tr>\n",
       "      <th>8</th>\n",
       "      <td>9</td>\n",
       "      <td>68</td>\n",
       "      <td>0</td>\n",
       "      <td>6</td>\n",
       "    </tr>\n",
       "    <tr>\n",
       "      <th>9</th>\n",
       "      <td>10</td>\n",
       "      <td>69</td>\n",
       "      <td>0</td>\n",
       "      <td>6</td>\n",
       "    </tr>\n",
       "    <tr>\n",
       "      <th>10</th>\n",
       "      <td>11</td>\n",
       "      <td>70</td>\n",
       "      <td>1</td>\n",
       "      <td>5</td>\n",
       "    </tr>\n",
       "    <tr>\n",
       "      <th>11</th>\n",
       "      <td>12</td>\n",
       "      <td>70</td>\n",
       "      <td>0</td>\n",
       "      <td>6</td>\n",
       "    </tr>\n",
       "    <tr>\n",
       "      <th>12</th>\n",
       "      <td>13</td>\n",
       "      <td>70</td>\n",
       "      <td>1</td>\n",
       "      <td>5</td>\n",
       "    </tr>\n",
       "    <tr>\n",
       "      <th>13</th>\n",
       "      <td>14</td>\n",
       "      <td>70</td>\n",
       "      <td>0</td>\n",
       "      <td>6</td>\n",
       "    </tr>\n",
       "    <tr>\n",
       "      <th>14</th>\n",
       "      <td>15</td>\n",
       "      <td>72</td>\n",
       "      <td>0</td>\n",
       "      <td>6</td>\n",
       "    </tr>\n",
       "    <tr>\n",
       "      <th>15</th>\n",
       "      <td>16</td>\n",
       "      <td>73</td>\n",
       "      <td>0</td>\n",
       "      <td>6</td>\n",
       "    </tr>\n",
       "    <tr>\n",
       "      <th>16</th>\n",
       "      <td>17</td>\n",
       "      <td>75</td>\n",
       "      <td>0</td>\n",
       "      <td>6</td>\n",
       "    </tr>\n",
       "    <tr>\n",
       "      <th>17</th>\n",
       "      <td>18</td>\n",
       "      <td>75</td>\n",
       "      <td>1</td>\n",
       "      <td>5</td>\n",
       "    </tr>\n",
       "    <tr>\n",
       "      <th>18</th>\n",
       "      <td>19</td>\n",
       "      <td>76</td>\n",
       "      <td>0</td>\n",
       "      <td>6</td>\n",
       "    </tr>\n",
       "    <tr>\n",
       "      <th>19</th>\n",
       "      <td>20</td>\n",
       "      <td>76</td>\n",
       "      <td>0</td>\n",
       "      <td>6</td>\n",
       "    </tr>\n",
       "    <tr>\n",
       "      <th>20</th>\n",
       "      <td>21</td>\n",
       "      <td>78</td>\n",
       "      <td>0</td>\n",
       "      <td>6</td>\n",
       "    </tr>\n",
       "    <tr>\n",
       "      <th>21</th>\n",
       "      <td>22</td>\n",
       "      <td>79</td>\n",
       "      <td>0</td>\n",
       "      <td>6</td>\n",
       "    </tr>\n",
       "    <tr>\n",
       "      <th>22</th>\n",
       "      <td>23</td>\n",
       "      <td>81</td>\n",
       "      <td>0</td>\n",
       "      <td>6</td>\n",
       "    </tr>\n",
       "  </tbody>\n",
       "</table>\n",
       "</div>"
      ],
      "text/plain": [
       "    mission  temperature  damaged  undamaged\n",
       "0         1           53        5          1\n",
       "1         2           57        1          5\n",
       "2         3           58        1          5\n",
       "3         4           63        1          5\n",
       "4         5           66        0          6\n",
       "5         6           67        0          6\n",
       "6         7           67        0          6\n",
       "7         8           67        0          6\n",
       "8         9           68        0          6\n",
       "9        10           69        0          6\n",
       "10       11           70        1          5\n",
       "11       12           70        0          6\n",
       "12       13           70        1          5\n",
       "13       14           70        0          6\n",
       "14       15           72        0          6\n",
       "15       16           73        0          6\n",
       "16       17           75        0          6\n",
       "17       18           75        1          5\n",
       "18       19           76        0          6\n",
       "19       20           76        0          6\n",
       "20       21           78        0          6\n",
       "21       22           79        0          6\n",
       "22       23           81        0          6"
      ]
     },
     "execution_count": 3,
     "metadata": {},
     "output_type": "execute_result"
    }
   ],
   "source": [
    "# Load Dataset\n",
    "orings_df = pd.read_csv(r'C:\\Users\\luis9\\OneDrive\\Datos\\orings.csv')\n",
    "\n",
    "# Extract Data\n",
    "n = orings_df.shape[0]\n",
    "x = orings_df['temperature'].values\n",
    "y = orings_df['damaged'].values\n",
    "\n",
    "# Print Dataset\n",
    "orings_df"
   ]
  },
  {
   "cell_type": "code",
   "execution_count": 4,
   "id": "88a9c955",
   "metadata": {},
   "outputs": [
    {
     "data": {
      "text/plain": [
       "Text(0, 0.5, 'Number of damaged O-rings (out of 6)')"
      ]
     },
     "execution_count": 4,
     "metadata": {},
     "output_type": "execute_result"
    },
    {
     "data": {
      "image/png": "[encoded data removed]",
      "text/plain": [
       "<Figure size 1000x600 with 1 Axes>"
      ]
     },
     "metadata": {},
     "output_type": "display_data"
    }
   ],
   "source": [
    "plt.subplots(1, 1, figsize=(10,6))\n",
    "sns.scatterplot(x=x,y=y)\n",
    "\n",
    "plt.title('Scatterplot For Temperature at Launch of Challenger space shuttle and Number of Failed O-Rings.')\n",
    "plt.xlabel('Temperature, in Fahrenheit')\n",
    "plt.ylabel('Number of damaged O-rings (out of 6)')"
   ]
  },
  {
   "cell_type": "markdown",
   "id": "77e268e4",
   "metadata": {},
   "source": [
    "Let $\\rho$ be the Pearson correlation coeficient and $r$ be the estimate for $\\rho$."
   ]
  },
  {
   "cell_type": "markdown",
   "id": "5d718491",
   "metadata": {},
   "source": [
    "For data that follow a bivariate normal distribution, the exact density function f(r) for the sample correlation coefficient r of a normal bivariate is\n",
    "\n",
    "$${\\displaystyle f(r)={\\frac {(n-2)\\,\\mathrm {\\Gamma } (n-1)(1-\\rho ^{2})^{\\frac {n-1}{2}}(1-r^{2})^{\\frac {n-4}{2}}}{{\\sqrt {2\\pi }}\\,\\mathrm {\\Gamma } (n-{\\tfrac {1}{2}})(1-\\rho r)^{n-{\\frac {3}{2}}}}}{}_{2}\\mathrm {F} _{1}{\\bigl (}{\\tfrac {1}{2}},{\\tfrac {1}{2}};{\\tfrac {1}{2}}(2n-1);{\\tfrac {1}{2}}(\\rho r+1){\\bigr )}}$$\n",
    "\n",
    "where $\\Gamma$ is the gamma function and ${\\displaystyle {}_{2}\\mathrm {F} _{1}(a,b;c;z)}$ is the Gaussian hypergeometric function. In the special case when $ \\rho = 0$ (zero population correlation), the exact density function $f(r)$ can be written as:\n",
    "$${\\displaystyle f(r)={\\frac {\\left(1-r^{2}\\right)^{\\frac {n-4}{2}}}{\\mathrm {B} \\left({\\tfrac {1}{2}},{\\tfrac {1}{2}}(n-2)\\right)}}.}$$\n",
    "This allows us to construct a $p$-value to test the hypothesis of interest of no correlation between temperature and number of failed O-rings."
   ]
  },
  {
   "cell_type": "code",
   "execution_count": 5,
   "id": "d16810e3",
   "metadata": {},
   "outputs": [
    {
     "data": {
      "text/plain": [
       "PearsonRResult(statistic=-0.6384574345662328, pvalue=0.0010434842063727356)"
      ]
     },
     "execution_count": 5,
     "metadata": {},
     "output_type": "execute_result"
    }
   ],
   "source": [
    "# Compute correlation and p-value\n",
    "r = pearsonr(x,y)[0]\n",
    "pearsonr(x,y)"
   ]
  },
  {
   "cell_type": "markdown",
   "id": "afd2f983",
   "metadata": {},
   "source": [
    "So the estimate for $\\rho$ is $r = -0.6384$ which tells us that there evidence of a inverse relationship between temperature at launch and number of failed O-rings, that is, when the temperature at launch is low, then there are more failed O-rings. \n",
    "\n",
    "The $p$-value of 0.00104 tell us that there is very strong evidence against $H_0 : \\rho = 0$. Now, let us construct a confidence interval for $\\rho$ to better evaluate the uncertainty around the estimation."
   ]
  },
  {
   "cell_type": "markdown",
   "id": "7b446113",
   "metadata": {},
   "source": [
    "### Confidence Interval For Correlation Coeficient with Fisher's Method\n",
    "\n",
    "The correlation coefficient $r$ can be studentized by dividing it by its standard error given by \n",
    "$$ {\\displaystyle \\sigma _{r}={\\sqrt {\\frac {1-r^{2}}{n-2}}}},$$\n",
    "that is, we consider the variable\n",
    "$$ {\\displaystyle t = t_r = {\\frac {r}{\\sigma _{r}}}=r{\\sqrt {\\frac {n-2}{1-r^{2}}}}}.$$\n",
    "The distribution for $t$ is a $t-Student$ distribution, with $n-1$ degrees of freedom, in the null case $\\rho = 0$. This holds approximately in case of non-normal observed values if sample sizes are large enough."
   ]
  },
  {
   "cell_type": "markdown",
   "id": "ac65c1e0",
   "metadata": {},
   "source": [
    "Suppose the number $a$ is so chosen that\n",
    "$$ P(-a < T < a) = 1-\\alpha, \\quad \\alpha \\in (0,1),$$\n",
    "when T has a t-distribution with n − 1 degrees of freedom. By symmetry, this is the same as saying that $a$ satisfies\n",
    "$$ P(T < a) = 1-\\alpha/2, $$\n",
    "so $s$ is the \"$1-\\alpha/2$-th percentile\" of this probability distribution, that is, $a = t_{\\alpha/2, n-1}$. Then,\n",
    "$${\\displaystyle P \\left(-a < t < a \\right) = 1-\\alpha,}$$\n",
    "which is equivalent to \n",
    "$${\\displaystyle P \\left(-a < r \\sqrt{\\frac{n-2}{1-r^2}} < a \\right) = 1-\\alpha,}$$\n",
    "if and only if \n",
    "$${\\displaystyle P \\left(-a \\frac{1}{\\sqrt{n-2}} <  \\frac{r}{\\sqrt{1-r^2}} < a \\frac{1}{\\sqrt{n-2}} \\right) = 1-\\alpha.}$$\n",
    "From this last equation we see that it is difficult to find the confidence interval for the population correlation coefficient."
   ]
  },
  {
   "cell_type": "markdown",
   "id": "d666464b",
   "metadata": {},
   "source": [
    "In practice, confidence intervals and hypothesis tests relating to ρ are usually carried out using the Fisher transformation, $\\phi$:\n",
    "$${\\displaystyle \\phi(r)\\equiv {\\tfrac {1}{2}}\\,\\ln \\left({\\frac {1+r}{1-r}}\\right)=\\operatorname {artanh} (r)}.$$\n",
    "It is known that \n",
    "$$\\phi(r) \\xrightarrow{d} N\\left(\\phi(\\rho), \\frac{1}{n-3}\\right),$$\n",
    "where $\\rho$ denotes the population correlation coefficient and $\\xrightarrow{d}$ denotes convergence in distribution. So the Fisher transformations gives us a Normal approximation which allows us to compute an approximate confidence interval.\n",
    "Using the approximation, a $z$-score is \n",
    "$$ z = \\frac{\\phi(r)-\\phi(\\rho)}{se(\\phi(r))} = \\sqrt{n-3}\\left(\\phi(r) - \\phi(\\rho)\\right).$$\n",
    "Which holds for $n > 3$ and under the assumption that the sample pairs are independent and identically distributed and follow a bivariate normal distribution.\n",
    "\n",
    "To obtain a confidence interval for ρ, we first compute a confidence interval with coverage $1-\\alpha$ for $\\phi(\\rho))$ given by\n",
    "$$phi(\\rho) \\in [\\phi(r) \\pm z_{\\alpha/2} se(\\phi(r))].$$\n",
    "The inverse Fisher transformation $\\phi^{-1}$ or $tanh$ brings the interval back to the correlation scale\n",
    "$$\\rho \\in [\\phi^{-1}(\\phi(r) - z_{\\alpha/2} se(\\phi(r))), \\phi^{-1}(\\phi(r) + z_{\\alpha/2} se(\\phi(r))) ].$$\n"
   ]
  },
  {
   "cell_type": "code",
   "execution_count": 6,
   "id": "df23a8f5",
   "metadata": {},
   "outputs": [
    {
     "data": {
      "text/plain": [
       "(-1.1938266243563098, -0.3173040837797283)"
      ]
     },
     "execution_count": 6,
     "metadata": {},
     "output_type": "execute_result"
    }
   ],
   "source": [
    "alpha = 0.05\n",
    "phi_r = np.arctanh(r)\n",
    "se    = 1/np.sqrt(n-3)\n",
    "z     = norm.ppf(1-alpha/2)\n",
    "l_z, u_z = phi_r-z*se, phi_r+z*se\n",
    "l_z, u_z"
   ]
  },
  {
   "cell_type": "code",
   "execution_count": 7,
   "id": "2168fc67",
   "metadata": {},
   "outputs": [
    {
     "data": {
      "text/plain": [
       "(-0.8317618872284532, -0.30706722925115965)"
      ]
     },
     "execution_count": 7,
     "metadata": {},
     "output_type": "execute_result"
    }
   ],
   "source": [
    "low, upp = np.tanh((l_z, u_z))\n",
    "low, upp"
   ]
  },
  {
   "cell_type": "markdown",
   "id": "55956aa0",
   "metadata": {},
   "source": [
    "So, the 95% confidence interval for $\\rho$ is $[-0.8317, -0.3070]$ which tells us that there is a lot of evidence of the inverse relationship that we discussed earlier.\n",
    "\n",
    "But, the $p$-value given before and this confidence interval rests on the assumption of bi-variate normal data. And since this is assumption is not met, there could be doubt arround the validity of these values obtained from the sample.\n",
    "\n",
    "Now, let us use non-parametric methods to evaluate our hypothesis."
   ]
  },
  {
   "cell_type": "markdown",
   "id": "576c667b",
   "metadata": {},
   "source": [
    "### Confidence Interval For Correlation Coeficient with Bootstrap\n",
    "The bootstrap can be used to construct confidence intervals for Pearson's correlation coefficient. In the \"non-parametric\" bootstrap, $n$ pairs $(x_i, y_i)$ are resampled \"with replacement\" from the observed set of $n$ pairs, and the correlation coefficient $r$ is calculated based on the resampled data. This process is repeated a large number of times, and the empirical distribution of the resampled $r$ values are used to approximate the sampling distribution of the statistic. A 95% confidence interval for $\\rho$ can be defined as the interval spanning from the 2.5th to the 97.5th percentile of the resampled $r$ values."
   ]
  },
  {
   "cell_type": "code",
   "execution_count": 8,
   "id": "f383515f",
   "metadata": {},
   "outputs": [
    {
     "data": {
      "text/plain": [
       "array([-0.63845743,  1.        , -0.63845743, ..., -0.63845743,\n",
       "        1.        ,  1.        ])"
      ]
     },
     "execution_count": 8,
     "metadata": {},
     "output_type": "execute_result"
    }
   ],
   "source": [
    "# configure bootstrap\n",
    "B = 10000\n",
    "data = np.array([x,y])\n",
    "statistics_boot = np.zeros(B)\n",
    "\n",
    "# execute bootstrap\n",
    "for i in range(B):\n",
    "    boot_sample = resample(data)\n",
    "    boot_stat   = pearsonr(x = boot_sample[0], y = boot_sample[1])[0]\n",
    "    statistics_boot[i] = boot_stat\n",
    "\n",
    "statistics_boot"
   ]
  },
  {
   "cell_type": "code",
   "execution_count": 9,
   "id": "559ddae5",
   "metadata": {},
   "outputs": [
    {
     "data": {
      "image/png": "[encoded data removed]",
      "text/plain": [
       "<Figure size 1000x600 with 1 Axes>"
      ]
     },
     "metadata": {},
     "output_type": "display_data"
    }
   ],
   "source": [
    "plt.subplots(1, 1, figsize=(10,6))\n",
    "plt.hist(statistics_boot)\n",
    "plt.title('\\\"Distribution\\\" of Bootstrapped Correlation Coefficient.')\n",
    "plt.xlabel(r'$\\rho$')\n",
    "plt.ylabel('Counts');"
   ]
  },
  {
   "cell_type": "code",
   "execution_count": 10,
   "id": "a7fe8f50",
   "metadata": {},
   "outputs": [
    {
     "data": {
      "text/plain": [
       "(-0.6384574345662328, 0.9999999999999998)"
      ]
     },
     "execution_count": 10,
     "metadata": {},
     "output_type": "execute_result"
    }
   ],
   "source": [
    "# Bootstrap Percentil confidence interval at level 0.95\n",
    "np.quantile(statistics_boot, 0.025), np.quantile(statistics_boot, 0.975)"
   ]
  },
  {
   "cell_type": "markdown",
   "id": "07d3d302",
   "metadata": {},
   "source": [
    "Since our sample size is small and there is only one observation of high failures (one observation where the number of failed O-rings is 5 out of 6), the bootstrap doesn't perfom very well and gives us a confidence interval [-0.6384, 0.999] with 95% coverage and this contains the null value $\\rho = 0$ at a level $0.05$ for the hypothesis test (by the inversion of confidence intervals and hypothesis tests). But again, this is to the limited information in the sample that is given by the nature of the data. \n",
    "\n",
    "Let us try a better approximation method in the form of a permutation test for the correlation coefficient."
   ]
  },
  {
   "cell_type": "markdown",
   "id": "07629944",
   "metadata": {},
   "source": [
    "### Back to Hypothesis Testing with a Permutation Test\n",
    "\n",
    "Permutation tests provide a direct approach to performing hypothesis tests and constructing confidence intervals. A permutation test for Pearson's correlation coefficient involves the following two steps:\n",
    "\n",
    "1. Using the original paired data $(x_i, y_i)$, randomly redefine the pairs to create a new data set $(x_{i'}, y_{i'})$, where the i′ are a permutation of the set $\\{1,\\ldots,n\\}$. The permutation $i′$ is selected randomly, with equal probabilities placed on all n! possible permutations. This is equivalent to drawing the $i′$ randomly without replacement from the set $\\{1,\\ldots,n\\}$. In bootstrapping, a closely related approach, the $i$ and the $i′$ are equal and drawn with replacement from $\\{1,\\ldots,n\\}$.\n",
    "2. Construct a correlation coefficient r from the randomized data.\n",
    "\n",
    "To perform the permutation test, repeat steps (1.) and (2.) a large number of times. The p-value for the permutation test is the proportion of the r values generated in step (2.) that are larger than the Pearson correlation coefficient that was calculated from the original data. Here \"larger\" can mean either that the value is larger in magnitude, or larger in signed value, depending on whether a two-sided or one-sided test is desired. "
   ]
  },
  {
   "cell_type": "code",
   "execution_count": 11,
   "id": "a2bd3d4d",
   "metadata": {},
   "outputs": [
    {
     "data": {
      "text/plain": [
       "(-0.6384574345662328, 0.001999800019998)"
      ]
     },
     "execution_count": 11,
     "metadata": {},
     "output_type": "execute_result"
    }
   ],
   "source": [
    "# Permutation Test for the Pearson correlation coefficient with scipy.stats\n",
    "def statistic(x, y):\n",
    "    return pearsonr(x, y).statistic\n",
    "\n",
    "res = permutation_test((x, y), statistic, vectorized=False,\n",
    "                       permutation_type='pairings',\n",
    "                       n_resamples = 10000,\n",
    "                       alternative = 'two-sided')\n",
    "\n",
    "r, pvalue, null = res.statistic, res.pvalue, res.null_distribution\n",
    "\n",
    "\n",
    "r, pvalue"
   ]
  },
  {
   "cell_type": "code",
   "execution_count": 12,
   "id": "0c0d9895",
   "metadata": {},
   "outputs": [
    {
     "data": {
      "image/png": "[encoded data removed]",
      "text/plain": [
       "<Figure size 1000x600 with 1 Axes>"
      ]
     },
     "metadata": {},
     "output_type": "display_data"
    }
   ],
   "source": [
    "plt.subplots(1, 1, figsize=(10,6))\n",
    "plt.hist(res.null_distribution, bins=50)\n",
    "plt.title('Null \\\"Distribution\\\" of Permutations for Correlation Coefficient.')\n",
    "plt.xlabel(r'$\\rho$')\n",
    "plt.ylabel('Counts');"
   ]
  },
  {
   "cell_type": "code",
   "execution_count": 13,
   "id": "9d209ceb",
   "metadata": {},
   "outputs": [
    {
     "name": "stdout",
     "output_type": "stream",
     "text": [
      "9.999000099990002e-05\n"
     ]
    }
   ],
   "source": [
    "# Permutation Test for the Pearson correlation coefficient with mlxtend\n",
    "mlxtend_p_value = mlxtend_perm_test(x, y,\n",
    "                           func = statistic,\n",
    "                           method='approximate',\n",
    "                           num_rounds=10000,\n",
    "                           paired = True)\n",
    "\n",
    "print(mlxtend_p_value)"
   ]
  },
  {
   "cell_type": "markdown",
   "id": "99b6bc12",
   "metadata": {},
   "source": [
    "Now, the permutation hypothesis test for the Pearson correlation coefficient allows us to reject $H_0$ since the p-value is very small. And this test has the advantage of being non-parametric, that is, we don't require the data to be bivariate normal."
   ]
  },
  {
   "cell_type": "markdown",
   "id": "17eb09db",
   "metadata": {},
   "source": [
    "### Conclusion\n",
    "\n",
    "There is evidence for the inverse relationship between the number of failed O-rings and the temperature at launch. So, in order to prevent the failure of O-rings the temperature has to be more controlled (that is, cancel the launch if the temperature is too low)."
   ]
  }
 ],
 "metadata": {
  "kernelspec": {
   "display_name": "Python 3 (ipykernel)",
   "language": "python",
   "name": "python3"
  },
  "language_info": {
   "codemirror_mode": {
    "name": "ipython",
    "version": 3
   },
   "file_extension": ".py",
   "mimetype": "text/x-python",
   "name": "python",
   "nbconvert_exporter": "python",
   "pygments_lexer": "ipython3",
   "version": "3.9.7"
  }
 },
 "nbformat": 4,
 "nbformat_minor": 5
}
